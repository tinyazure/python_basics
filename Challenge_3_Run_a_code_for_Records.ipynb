{
  "nbformat": 4,
  "nbformat_minor": 0,
  "metadata": {
    "colab": {
      "provenance": [],
      "authorship_tag": "ABX9TyPA20pjzLWDs5tI8c8yCJ+M",
      "include_colab_link": true
    },
    "kernelspec": {
      "name": "python3",
      "display_name": "Python 3"
    },
    "language_info": {
      "name": "python"
    }
  },
  "cells": [
    {
      "cell_type": "markdown",
      "metadata": {
        "id": "view-in-github",
        "colab_type": "text"
      },
      "source": [
        "<a href=\"https://colab.research.google.com/github/tinyazure/python_basics/blob/main/Challenge_3_Run_a_code_for_Records.ipynb\" target=\"_parent\"><img src=\"https://colab.research.google.com/assets/colab-badge.svg\" alt=\"Open In Colab\"/></a>"
      ]
    },
    {
      "cell_type": "code",
      "source": [],
      "metadata": {
        "id": "Mh4T4zcA0WZ4"
      },
      "execution_count": null,
      "outputs": []
    },
    {
      "cell_type": "code",
      "execution_count": null,
      "metadata": {
        "id": "3Jz69waJ0Kqr"
      },
      "outputs": [],
      "source": [
        "#1) Request User inputs\n",
        "nombre = input(\"Ingresá tu nombre: \")\n",
        "apellido = input(\"Ingresá tu apellido: \")\n",
        "edad = int(input(\"Ingresá tu edad: \"))\n",
        "email = input(\"Ingresá tu correo electrónico: \")\n",
        "\n",
        "#2) Display records in a structured format.\n",
        "\n",
        "print(\"\\n--- Tarjeta de Presentación ---\")\n",
        "print(\"Nombre completo:\", nombre, apellido)\n",
        "print(\"Edad:\", edad, \"años\")\n",
        "print(\"Correo electrónico:\", email)\n",
        "print(\"-------------------------------\")"
      ]
    },
    {
      "cell_type": "code",
      "source": [
        "#1) Request User inputs in a single block of code\n",
        "name = input(\"Name \")\n",
        "apellido = input(\"Last Name\")\n",
        "edad = input(\"Age\")\n",
        "mail = input(\"email\")\n",
        "print(\"**********User Report Out**********\" ,\n",
        "      \"\\nNombre:\",\"\\t\", name,\n",
        "      \"\\nApellido:\",\"\\t\", apellido,\n",
        "      \"\\nEdad:\",\"\\t\\t\", edad,\n",
        "      \"\\nCliente:\",\"\\t\", mail,\n",
        "      \"\\n*********************************\")\n"
      ],
      "metadata": {
        "id": "_5VMyqOiMydl"
      },
      "execution_count": null,
      "outputs": []
    }
  ]
}