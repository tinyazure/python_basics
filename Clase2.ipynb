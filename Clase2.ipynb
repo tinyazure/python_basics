{
 "cells": [
  {
   "cell_type": "code",
   "execution_count": null,
   "id": "f250a5d0",
   "metadata": {},
   "outputs": [],
   "source": []
  },
  {
   "cell_type": "markdown",
   "id": "aa98e189",
   "metadata": {},
   "source": [
    "Clase2\n",
    "---\n",
    "Variables y simple data type\n",
    "Aritmetic Operators\n",
    "Print() and input() functions\n",
    "data conversion between simple data types\n",
    "Code with input, process and output"
   ]
  },
  {
   "cell_type": "code",
   "execution_count": 1,
   "id": "657dad68",
   "metadata": {},
   "outputs": [
    {
     "name": "stdout",
     "output_type": "stream",
     "text": [
      "Hello World\n"
     ]
    }
   ],
   "source": [
    "message = \"Hello World\"\n",
    "print (message)"
   ]
  },
  {
   "cell_type": "code",
   "execution_count": 3,
   "id": "8ad08277",
   "metadata": {},
   "outputs": [
    {
     "name": "stdout",
     "output_type": "stream",
     "text": [
      "30 años   tiene Juan\n"
     ]
    }
   ],
   "source": [
    "edad = 30\n",
    "nombre = \"Juan\"\n",
    "print(edad,\"años\" ,\" \", \"tiene\", nombre)"
   ]
  },
  {
   "cell_type": "code",
   "execution_count": 8,
   "id": "bed23c92",
   "metadata": {},
   "outputs": [
    {
     "name": "stdout",
     "output_type": "stream",
     "text": [
      "2\n"
     ]
    }
   ],
   "source": [
    "#multiple variable assigments#\n",
    "\n",
    "x, y, z = 1,2,3 \n",
    "print(y)"
   ]
  },
  {
   "cell_type": "code",
   "execution_count": 13,
   "id": "d0a3a9c7",
   "metadata": {},
   "outputs": [
    {
     "name": "stdout",
     "output_type": "stream",
     "text": [
      "1\n"
     ]
    }
   ],
   "source": [
    "#cambiando el valor de una variable#\n",
    "count = 0\n",
    "count = 1\n",
    "print(count)"
   ]
  },
  {
   "cell_type": "code",
   "execution_count": 15,
   "id": "96bf9c9b",
   "metadata": {},
   "outputs": [
    {
     "name": "stdout",
     "output_type": "stream",
     "text": [
      "nada amigo\n"
     ]
    }
   ],
   "source": [
    "#las variables pueden cambiar de tipo de dato almacenado#\n",
    "count = 0\n",
    "count = \"nada amigo\"\n",
    "print(count)"
   ]
  },
  {
   "cell_type": "code",
   "execution_count": null,
   "id": "e8633b77",
   "metadata": {},
   "outputs": [],
   "source": []
  }
 ],
 "metadata": {
  "kernelspec": {
   "display_name": "Python 3",
   "language": "python",
   "name": "python3"
  },
  "language_info": {
   "codemirror_mode": {
    "name": "ipython",
    "version": 3
   },
   "file_extension": ".py",
   "mimetype": "text/x-python",
   "name": "python",
   "nbconvert_exporter": "python",
   "pygments_lexer": "ipython3",
   "version": "3.12.10"
  }
 },
 "nbformat": 4,
 "nbformat_minor": 5
}
